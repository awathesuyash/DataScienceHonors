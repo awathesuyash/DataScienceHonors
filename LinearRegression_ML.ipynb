{
  "nbformat": 4,
  "nbformat_minor": 0,
  "metadata": {
    "colab": {
      "name": "LinearRegression_ML.ipynb",
      "provenance": [],
      "authorship_tag": "ABX9TyNjJorvPKTPmrxGRZTLFoZg",
      "include_colab_link": true
    },
    "kernelspec": {
      "name": "python3",
      "display_name": "Python 3"
    },
    "language_info": {
      "name": "python"
    }
  },
  "cells": [
    {
      "cell_type": "markdown",
      "metadata": {
        "id": "view-in-github",
        "colab_type": "text"
      },
      "source": [
        "<a href=\"https://colab.research.google.com/github/awathesuyash/DataScienceHonors/blob/main/LinearRegression_ML.ipynb\" target=\"_parent\"><img src=\"https://colab.research.google.com/assets/colab-badge.svg\" alt=\"Open In Colab\"/></a>"
      ]
    },
    {
      "cell_type": "code",
      "execution_count": 12,
      "metadata": {
        "id": "7tS0h568VW4i"
      },
      "outputs": [],
      "source": [
        "import numpy as np\n",
        "import matplotlib.pyplot as plt\n"
      ]
    },
    {
      "cell_type": "code",
      "source": [
        "def estimate_coef(x, y):\n",
        "# number of observations/points\n",
        " n = np.size(x)\n",
        " # mean of x and y vector\n",
        " m_x = np.mean(x)\n",
        " m_y = np.mean(y)\n",
        " # calculating cross-deviation and deviation about x\n",
        " SS_xy = np.sum(y*x) - n*m_y*m_x\n",
        " SS_xx = np.sum(x*x) - n*m_x*m_x\n",
        "\n",
        "# calculating regression coefficients\n",
        " b_1 = SS_xy / SS_xx\n",
        " b_0 = m_y - b_1*m_x\n",
        "\n",
        " return (b_0, b_1)\n",
        "\n"
      ],
      "metadata": {
        "id": "Mjca8igLVz8q"
      },
      "execution_count": 13,
      "outputs": []
    },
    {
      "cell_type": "code",
      "source": [
        "def plot_regression_line(x, y, b):\n",
        "# plotting the actual points as scatter plot\n",
        "  plt.scatter(x, y, color = \"m\",\n",
        "  marker = \"o\", s = 30)\n",
        "\n",
        "  # predicted response vector\n",
        "  y_pred = b[0] + b[1]*x\n",
        "  print(y_pred)\n",
        "  # plotting the regression line\n",
        "  plt.plot(x, y_pred, color = \"g\")\n",
        "\n",
        "  # putting labels\n",
        "  plt.xlabel('x')\n",
        "  plt.ylabel('y')\n",
        "\n",
        "  # function to show plot\n",
        "  plt.show()\n",
        "\n"
      ],
      "metadata": {
        "id": "MXnkblrSVzha"
      },
      "execution_count": 19,
      "outputs": []
    },
    {
      "cell_type": "code",
      "source": [
        "def main():\n",
        "# observations / data\n",
        " # x = np.array([0, 1, 2, 3, 4, 5, 6, 7, 8, 9])\n",
        " # y = np.array([1, 3, 2, 5, 7, 8, 8, 9, 10, 12])\n",
        "  x = np.array([ 2, 3, 5, 7, 9])\n",
        "  y = np.array([4,5,7,10,15])\n",
        "  # estimating coefficients\n",
        "  b = estimate_coef(x, y)\n",
        "  print(\"Estimated coefficients:\\nb_0 = {} \\\n",
        "  \\nb_1 = {}\".format(b[0], b[1]))\n",
        "\n",
        "  # plotting regression line\n",
        "  plot_regression_line(x, y, b)\n",
        "  y_new=b[1]*8 + b[0]\n",
        "  print( y_new)\n",
        "\n",
        "if __name__ == \"__main__\":\n",
        " main()\n"
      ],
      "metadata": {
        "colab": {
          "base_uri": "https://localhost:8080/",
          "height": 366
        },
        "id": "aequ058pXM0S",
        "outputId": "a486bd2e-0cea-498a-92c4-ade8251c0073"
      },
      "execution_count": 24,
      "outputs": [
        {
          "output_type": "stream",
          "name": "stdout",
          "text": [
            "Estimated coefficients:\n",
            "b_0 = 0.30487804878048586   \n",
            "b_1 = 1.5182926829268295\n",
            "[ 3.34146341  4.8597561   7.89634146 10.93292683 13.9695122 ]\n"
          ]
        },
        {
          "output_type": "display_data",
          "data": {
            "image/png": "[encoded data removed]",
            "text/plain": [
              "<Figure size 432x288 with 1 Axes>"
            ]
          },
          "metadata": {
            "needs_background": "light"
          }
        },
        {
          "output_type": "stream",
          "name": "stdout",
          "text": [
            "12.451219512195122\n"
          ]
        }
      ]
    }
  ]
}